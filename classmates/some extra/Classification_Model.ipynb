{
  "cells": [
    {
      "cell_type": "markdown",
      "id": "c5d3d411-e665-4e8f-ac70-47a41b135fe5",
      "metadata": {
        "id": "c5d3d411-e665-4e8f-ac70-47a41b135fe5"
      },
      "source": [
        "# Evaluating and comparing 3 models SVM, KNN, Naive Bays:\n",
        "- 1\n",
        "- 2\n",
        "- 3\n",
        "- 4\n"
      ]
    },
    {
      "cell_type": "code",
      "execution_count": null,
      "id": "04a9162c-eeeb-4f04-9658-835856f14b6f",
      "metadata": {
        "id": "04a9162c-eeeb-4f04-9658-835856f14b6f"
      },
      "outputs": [],
      "source": [
        "import numpy as np\n",
        "import pandas as pd\n",
        "import matplotlib.pyplot as plt\n",
        "import seaborn as sns"
      ]
    },
    {
      "cell_type": "markdown",
      "id": "d0f2b87d-9c1f-4b1d-808a-d999c50363a0",
      "metadata": {
        "tags": [],
        "id": "d0f2b87d-9c1f-4b1d-808a-d999c50363a0"
      },
      "source": [
        "## Data :"
      ]
    },
    {
      "cell_type": "code",
      "execution_count": null,
      "id": "c889bb46-1940-438c-9ae2-2a5ce17584c7",
      "metadata": {
        "id": "c889bb46-1940-438c-9ae2-2a5ce17584c7"
      },
      "outputs": [],
      "source": [
        "data = pd.read_csv('Adult_TrainDataset.csv')\n",
        "data"
      ]
    },
    {
      "cell_type": "code",
      "execution_count": null,
      "id": "5e253a94-c1e8-45e5-bc29-79a683295944",
      "metadata": {
        "id": "5e253a94-c1e8-45e5-bc29-79a683295944"
      },
      "outputs": [],
      "source": [
        "Testset = pd.read_csv('Adult_TestDataset.csv')\n",
        "Testset['Income'].replace(to_replace=' <=50K.',value=1,inplace=True)\n",
        "Testset['Income'].replace(to_replace=' >50K.',value=0,inplace=True)\n",
        "\n",
        "Xtest=Testset.drop('Income',axis=1)\n",
        "ytest=Testset.Income"
      ]
    },
    {
      "cell_type": "code",
      "execution_count": null,
      "id": "2f1fa7b1-2d5c-429b-931f-002d08b3b296",
      "metadata": {
        "id": "2f1fa7b1-2d5c-429b-931f-002d08b3b296"
      },
      "outputs": [],
      "source": [
        "data.describe()"
      ]
    },
    {
      "cell_type": "markdown",
      "id": "4ae88307-d6d4-4aed-80ad-529655204459",
      "metadata": {
        "id": "4ae88307-d6d4-4aed-80ad-529655204459"
      },
      "source": [
        "- Capital_Gain, Capital_Loss, Education-Number, Hours-Per-Week all have high STD \n",
        "- Needs normalization"
      ]
    },
    {
      "cell_type": "code",
      "execution_count": null,
      "id": "421b2491-b44a-4b44-94e0-fabe6893d6cd",
      "metadata": {
        "id": "421b2491-b44a-4b44-94e0-fabe6893d6cd"
      },
      "outputs": [],
      "source": [
        "data.info()"
      ]
    },
    {
      "cell_type": "markdown",
      "id": "4d3ab1a2-ebcc-45be-9dd9-65a8e14a16a0",
      "metadata": {
        "tags": [],
        "id": "4d3ab1a2-ebcc-45be-9dd9-65a8e14a16a0"
      },
      "source": [
        "### Categorical Features :\n",
        "\n",
        "- Work_Class\n",
        "- Education\n",
        "- Marital_Status\n",
        "- Occupation\n",
        "- Relationship\n",
        "- Rave\n",
        "- Sex\n",
        "- Native_Country \n",
        "- Income\n"
      ]
    },
    {
      "cell_type": "code",
      "execution_count": null,
      "id": "49ea5db4-47ef-476c-9039-4e7fcd70f1a2",
      "metadata": {
        "id": "49ea5db4-47ef-476c-9039-4e7fcd70f1a2"
      },
      "outputs": [],
      "source": [
        "Numlist=data.describe().keys()\n",
        "Catlist=['Work_Class','Education','Marital_Status','Occupation','Relationship','Race','Sex','Native_Country']\n",
        "for i in Catlist:\n",
        "    print(i,':\\n',data[i].value_counts(),'\\n')"
      ]
    },
    {
      "cell_type": "markdown",
      "id": "7bb22a73-a888-4c4d-9010-91c8f1c8da05",
      "metadata": {
        "tags": [],
        "id": "7bb22a73-a888-4c4d-9010-91c8f1c8da05"
      },
      "source": [
        "## Pre-Proccessing and EDA on Categorical Features :"
      ]
    },
    {
      "cell_type": "markdown",
      "id": "c0912f60-e353-4346-bfcf-5ac2ab42cbe2",
      "metadata": {
        "id": "c0912f60-e353-4346-bfcf-5ac2ab42cbe2"
      },
      "source": [
        "### Income Label Counts Over all data"
      ]
    },
    {
      "cell_type": "code",
      "execution_count": null,
      "id": "b629b5ac-44b3-4a3f-925f-db3aab8e6981",
      "metadata": {
        "id": "b629b5ac-44b3-4a3f-925f-db3aab8e6981"
      },
      "outputs": [],
      "source": [
        "counts=data['Income'].value_counts()\n",
        "plt.pie(counts,labels=counts.keys())\n",
        "plt.title('Income Category Counts Percentage')"
      ]
    },
    {
      "cell_type": "markdown",
      "id": "6e582de2-0264-469c-8022-b8d9cab290ab",
      "metadata": {
        "id": "6e582de2-0264-469c-8022-b8d9cab290ab"
      },
      "source": [
        "### All Featues Distributions :"
      ]
    },
    {
      "cell_type": "code",
      "execution_count": null,
      "id": "377244f5-36cf-4349-9aab-24847553eafd",
      "metadata": {
        "id": "377244f5-36cf-4349-9aab-24847553eafd"
      },
      "outputs": [],
      "source": [
        "plt.figure(figsize=(30,20))\n",
        "for i in range(1,len(data.columns)+1):\n",
        "    plt.subplot(4,4,i)\n",
        "    sns.histplot(data[data.columns[i-1]], kde=True)\n",
        "    plt.title('Feature : '+data.columns[i-1])\n",
        "    plt.xticks(rotation = 90)\n",
        "plt.show()"
      ]
    },
    {
      "cell_type": "markdown",
      "id": "b593a27c-2fe4-495f-a0b8-3679f606d923",
      "metadata": {
        "id": "b593a27c-2fe4-495f-a0b8-3679f606d923"
      },
      "source": [
        "### Work_Class"
      ]
    },
    {
      "cell_type": "code",
      "execution_count": null,
      "id": "74947805-a3ab-43b5-ad7e-a6a159d747ae",
      "metadata": {
        "id": "74947805-a3ab-43b5-ad7e-a6a159d747ae"
      },
      "outputs": [],
      "source": [
        "label=data['Work_Class'].value_counts().keys()\n",
        "label"
      ]
    },
    {
      "cell_type": "code",
      "execution_count": null,
      "id": "106ba721-73fa-40f0-a0d9-0fbce3d896d7",
      "metadata": {
        "id": "106ba721-73fa-40f0-a0d9-0fbce3d896d7"
      },
      "outputs": [],
      "source": [
        "for i in label:\n",
        "    selected=data[data['Work_Class']==i].Income.value_counts()\n",
        "    if len(selected)==2:\n",
        "        print(i,':\\n',selected[1]/selected[0])\n",
        "        print(selected)\n",
        "        print('\\n')"
      ]
    },
    {
      "cell_type": "markdown",
      "id": "8fe6e023-22bf-49d6-93f9-d92df7b4a71a",
      "metadata": {
        "id": "8fe6e023-22bf-49d6-93f9-d92df7b4a71a"
      },
      "source": [
        "#### Fixing Label Names Removing starting space\n",
        "#### Filling Missing Value ? to Median:Private"
      ]
    },
    {
      "cell_type": "code",
      "execution_count": null,
      "id": "27b1368b-6944-474d-a8c0-28305010b16a",
      "metadata": {
        "id": "27b1368b-6944-474d-a8c0-28305010b16a"
      },
      "outputs": [],
      "source": [
        "data['Work_Class'].replace(to_replace=' ?',value='Null',inplace=True)\n",
        "for i in label:\n",
        "    data['Work_Class'].replace(to_replace=i,value=i.strip(),inplace=True)"
      ]
    },
    {
      "cell_type": "code",
      "execution_count": null,
      "id": "dd16df40-422f-4a0f-864e-b9404c4fe41b",
      "metadata": {
        "id": "dd16df40-422f-4a0f-864e-b9404c4fe41b"
      },
      "outputs": [],
      "source": [
        "tlabel=Xtest['Work_Class'].value_counts().keys()\n",
        "Xtest['Work_Class'].replace(to_replace=' ?',value='Null',inplace=True)\n",
        "for i in tlabel:\n",
        "    Xtest['Work_Class'].replace(to_replace=i,value=i.strip(),inplace=True)"
      ]
    },
    {
      "cell_type": "code",
      "execution_count": null,
      "id": "0df1d24e-078e-41a6-afa8-b082ec4de716",
      "metadata": {
        "id": "0df1d24e-078e-41a6-afa8-b082ec4de716"
      },
      "outputs": [],
      "source": [
        "Xtest['Work_Class'].value_counts()"
      ]
    },
    {
      "cell_type": "code",
      "execution_count": null,
      "id": "a593164f-95b2-44b3-b4b5-2d552adc49bb",
      "metadata": {
        "tags": [],
        "id": "a593164f-95b2-44b3-b4b5-2d552adc49bb"
      },
      "outputs": [],
      "source": [
        "sns.displot(data,x='Work_Class')\n",
        "plt.xticks(rotation = 45)\n",
        "plt.title('Work Class Values Distribution')"
      ]
    },
    {
      "cell_type": "markdown",
      "id": "a0987198-860c-46d6-b009-02268c24f01c",
      "metadata": {
        "id": "a0987198-860c-46d6-b009-02268c24f01c"
      },
      "source": [
        "- Let's See How Diffrent Working Classes affect Income"
      ]
    },
    {
      "cell_type": "code",
      "execution_count": null,
      "id": "d405fbed-d240-4e1f-a7be-4fced9a5002d",
      "metadata": {
        "id": "d405fbed-d240-4e1f-a7be-4fced9a5002d"
      },
      "outputs": [],
      "source": [
        "keylist=data['Work_Class'].value_counts().keys()\n",
        "heightlist=[]\n",
        "\n",
        "plt.figure(figsize=(20,20))\n",
        "for i in range(1,len(keylist)+1):\n",
        "    labels=data[data['Work_Class']==keylist[i-1]].Income.value_counts().keys()\n",
        "    for j in range(len(labels)):\n",
        "        heightlist.append(data[data['Work_Class']==keylist[i-1]].Income.value_counts().iloc[j])\n",
        "    plt.subplot(3,3,i)\n",
        "    plt.bar(height=heightlist,x=labels)\n",
        "    plt.title('Work_Class is '+keylist[i-1])\n",
        "    heightlist=[]\n",
        "\n",
        "plt.show()"
      ]
    },
    {
      "cell_type": "code",
      "execution_count": null,
      "id": "d3269857-e123-4b3c-b0cb-d4656733e3a8",
      "metadata": {
        "id": "d3269857-e123-4b3c-b0cb-d4656733e3a8"
      },
      "outputs": [],
      "source": [
        "data['Work_Class'].value_counts()"
      ]
    },
    {
      "cell_type": "markdown",
      "id": "9800d10c-d518-4692-8fb2-c4aedb12ac12",
      "metadata": {
        "id": "9800d10c-d518-4692-8fb2-c4aedb12ac12"
      },
      "source": [
        "### Education "
      ]
    },
    {
      "cell_type": "code",
      "execution_count": null,
      "id": "59fd908a-23f7-44fc-a122-9918038cbfad",
      "metadata": {
        "id": "59fd908a-23f7-44fc-a122-9918038cbfad"
      },
      "outputs": [],
      "source": [
        "label=data.Education.value_counts().keys()\n",
        "data.Education.value_counts()"
      ]
    },
    {
      "cell_type": "code",
      "execution_count": null,
      "id": "91df1dfa-dc02-4ca8-b7f8-b982711349a0",
      "metadata": {
        "id": "91df1dfa-dc02-4ca8-b7f8-b982711349a0"
      },
      "outputs": [],
      "source": [
        "tlabel=Xtest.Education.value_counts().keys()\n",
        "for i in tlabel:\n",
        "    Xtest['Education'].replace(to_replace=i,value=i.strip(),inplace=True)\n",
        "Xtest.Education.value_counts()"
      ]
    },
    {
      "cell_type": "markdown",
      "id": "d81db5ba-d596-4f72-b26b-f0e976d25ae2",
      "metadata": {
        "id": "d81db5ba-d596-4f72-b26b-f0e976d25ae2"
      },
      "source": [
        "#### Removing Starting Space"
      ]
    },
    {
      "cell_type": "code",
      "execution_count": null,
      "id": "bd1e5af8-d9e7-4af2-bcb7-74ae0d6f46ce",
      "metadata": {
        "id": "bd1e5af8-d9e7-4af2-bcb7-74ae0d6f46ce"
      },
      "outputs": [],
      "source": [
        "for i in label:\n",
        "    data['Education'].replace(to_replace=i,value=i.strip(),inplace=True)"
      ]
    },
    {
      "cell_type": "code",
      "execution_count": null,
      "id": "97c75848-2e00-48d2-b038-01cca04507f0",
      "metadata": {
        "id": "97c75848-2e00-48d2-b038-01cca04507f0"
      },
      "outputs": [],
      "source": [
        "sns.displot(data , x='Education')\n",
        "plt.xticks(rotation = 90)"
      ]
    },
    {
      "cell_type": "code",
      "execution_count": null,
      "id": "7cfdddda-14d0-4072-bfb1-41d626dd7a59",
      "metadata": {
        "id": "7cfdddda-14d0-4072-bfb1-41d626dd7a59"
      },
      "outputs": [],
      "source": [
        "keylist=data['Education'].value_counts().keys()\n",
        "heightlist=[]\n",
        "\n",
        "plt.figure(figsize=(20,20))\n",
        "for i in range(1,len(keylist)+1):\n",
        "    labels=data[data['Education']==keylist[i-1]].Income.value_counts().keys()\n",
        "    for j in range(len(labels)):\n",
        "        heightlist.append(data[data['Education']==keylist[i-1]].Income.value_counts().iloc[j])\n",
        "    plt.subplot(4,4,i)\n",
        "    plt.bar(height=heightlist,x=labels)\n",
        "    plt.title('Education is '+keylist[i-1])\n",
        "    heightlist=[]\n",
        "\n",
        "plt.show()"
      ]
    },
    {
      "cell_type": "markdown",
      "id": "157c7ddb-48a0-4f38-a609-51a6e7629204",
      "metadata": {
        "id": "157c7ddb-48a0-4f38-a609-51a6e7629204"
      },
      "source": [
        "### Marital_Status"
      ]
    },
    {
      "cell_type": "code",
      "execution_count": null,
      "id": "5027b8d1-9b95-42c5-a4f8-24a9937eb2e8",
      "metadata": {
        "id": "5027b8d1-9b95-42c5-a4f8-24a9937eb2e8"
      },
      "outputs": [],
      "source": [
        "data['Marital_Status'].value_counts()"
      ]
    },
    {
      "cell_type": "markdown",
      "id": "51420ba7-90b2-4d57-bf57-f877003a3e0f",
      "metadata": {
        "id": "51420ba7-90b2-4d57-bf57-f877003a3e0f"
      },
      "source": [
        "#### Marital_Status distributions:"
      ]
    },
    {
      "cell_type": "code",
      "execution_count": null,
      "id": "cba30a63-b267-402e-bb7a-9a4e09823579",
      "metadata": {
        "id": "cba30a63-b267-402e-bb7a-9a4e09823579"
      },
      "outputs": [],
      "source": [
        "sns.displot(data , x='Marital_Status')\n",
        "plt.xticks(rotation = 90)"
      ]
    },
    {
      "cell_type": "code",
      "execution_count": null,
      "id": "a2db63f2-5b6f-484f-aadd-d5e8e6e27331",
      "metadata": {
        "id": "a2db63f2-5b6f-484f-aadd-d5e8e6e27331"
      },
      "outputs": [],
      "source": [
        "keylist=data['Marital_Status'].value_counts().keys()\n",
        "heightlist=[]\n",
        "\n",
        "plt.figure(figsize=(20,20))\n",
        "for i in range(1,len(keylist)+1):\n",
        "    labels=data[data['Marital_Status']==keylist[i-1]].Income.value_counts().keys()\n",
        "    for j in range(len(labels)):\n",
        "        heightlist.append(data[data['Marital_Status']==keylist[i-1]].Income.value_counts().iloc[j])\n",
        "    plt.subplot(4,4,i)\n",
        "    plt.bar(height=heightlist,x=labels)\n",
        "    plt.title('Marital_Status is '+keylist[i-1])\n",
        "    heightlist=[]\n",
        "\n",
        "plt.show()"
      ]
    },
    {
      "cell_type": "markdown",
      "id": "14d19963-f844-46e9-b8bd-02fe094bc75e",
      "metadata": {
        "id": "14d19963-f844-46e9-b8bd-02fe094bc75e"
      },
      "source": [
        "### Occupation"
      ]
    },
    {
      "cell_type": "code",
      "execution_count": null,
      "id": "25aed298-06e9-41e0-bd26-a2e9ab45ec88",
      "metadata": {
        "id": "25aed298-06e9-41e0-bd26-a2e9ab45ec88"
      },
      "outputs": [],
      "source": [
        "tlabel=Xtest['Occupation'].value_counts().keys()\n",
        "for i in tlabel:\n",
        "    Xtest['Occupation'].replace(to_replace=i,value=i.strip(),inplace=True)"
      ]
    },
    {
      "cell_type": "code",
      "execution_count": null,
      "id": "0c7e125f-71c8-45b7-81ba-54b88385708c",
      "metadata": {
        "id": "0c7e125f-71c8-45b7-81ba-54b88385708c"
      },
      "outputs": [],
      "source": [
        "label=data['Occupation'].value_counts().keys()\n",
        "data['Occupation'].value_counts()\n",
        "for i in label:\n",
        "    data['Occupation'].replace(to_replace=i,value=i.strip(),inplace=True)\n",
        "label=data['Occupation'].value_counts().keys()"
      ]
    },
    {
      "cell_type": "code",
      "execution_count": null,
      "id": "4d8d14a6-1a2b-4471-b545-582ff7a7e8c4",
      "metadata": {
        "tags": [],
        "id": "4d8d14a6-1a2b-4471-b545-582ff7a7e8c4"
      },
      "outputs": [],
      "source": [
        "for i in label:\n",
        "    selected=data[data['Occupation']==i].Income.value_counts()\n",
        "    print(i,':\\n',selected[1]/selected[0])\n",
        "    print(selected)\n",
        "    print('\\n')"
      ]
    },
    {
      "cell_type": "markdown",
      "id": "f793eead-1a1f-442f-9b00-2bc4f18f16c8",
      "metadata": {
        "id": "f793eead-1a1f-442f-9b00-2bc4f18f16c8"
      },
      "source": [
        " Farming-fishing  is closest to ? in Occupation\n",
        " according to target lable distribution"
      ]
    },
    {
      "cell_type": "markdown",
      "id": "bbc2d6df-50ae-4c7a-bb8c-622308292a48",
      "metadata": {
        "id": "bbc2d6df-50ae-4c7a-bb8c-622308292a48"
      },
      "source": [
        "#### Filling Missing Values"
      ]
    },
    {
      "cell_type": "code",
      "execution_count": null,
      "id": "0fe12d89-b054-406b-a07f-ce18758acc4d",
      "metadata": {
        "id": "0fe12d89-b054-406b-a07f-ce18758acc4d"
      },
      "outputs": [],
      "source": [
        "data['Occupation'].replace(to_replace='?',value='Farming-fishing',inplace=True)\n",
        "Xtest['Occupation'].replace(to_replace='?',value='Farming-fishing',inplace=True)"
      ]
    },
    {
      "cell_type": "code",
      "execution_count": null,
      "id": "f327693c-acf5-4173-9686-d4af2e25c6ac",
      "metadata": {
        "id": "f327693c-acf5-4173-9686-d4af2e25c6ac"
      },
      "outputs": [],
      "source": [
        "sns.displot(data , x='Occupation')\n",
        "plt.xticks(rotation = 90)"
      ]
    },
    {
      "cell_type": "code",
      "execution_count": null,
      "id": "93cd3ba1-90be-40c2-ad67-7e9068c309e6",
      "metadata": {
        "id": "93cd3ba1-90be-40c2-ad67-7e9068c309e6"
      },
      "outputs": [],
      "source": [
        "keylist=data['Occupation'].value_counts().keys()\n",
        "heightlist=[]\n",
        "\n",
        "plt.figure(figsize=(20,20))\n",
        "for i in range(1,len(keylist)+1):\n",
        "    labels=data[data['Occupation']==keylist[i-1]].Income.value_counts().keys()\n",
        "    for j in range(len(labels)):\n",
        "        heightlist.append(data[data['Occupation']==keylist[i-1]].Income.value_counts().iloc[j])\n",
        "    plt.subplot(4,4,i)\n",
        "    plt.bar(height=heightlist,x=labels)\n",
        "    plt.title('Occupation is '+keylist[i-1])\n",
        "    heightlist=[]\n",
        "\n",
        "plt.show()"
      ]
    },
    {
      "cell_type": "markdown",
      "id": "64763f23-225d-490e-a886-b1ac7fec1c8e",
      "metadata": {
        "id": "64763f23-225d-490e-a886-b1ac7fec1c8e"
      },
      "source": [
        "### Relationship"
      ]
    },
    {
      "cell_type": "code",
      "execution_count": null,
      "id": "992ca1ac-3027-4498-9776-46db82312156",
      "metadata": {
        "id": "992ca1ac-3027-4498-9776-46db82312156"
      },
      "outputs": [],
      "source": [
        "data['Relationship'].value_counts()"
      ]
    },
    {
      "cell_type": "code",
      "execution_count": null,
      "id": "2d97a352-d9f7-4d8e-abe4-c2587b1bb64b",
      "metadata": {
        "id": "2d97a352-d9f7-4d8e-abe4-c2587b1bb64b"
      },
      "outputs": [],
      "source": [
        "Xtest['Relationship'].value_counts()"
      ]
    },
    {
      "cell_type": "code",
      "execution_count": null,
      "id": "d9e686ee-8163-4c0a-8eb4-c9a114512903",
      "metadata": {
        "id": "d9e686ee-8163-4c0a-8eb4-c9a114512903"
      },
      "outputs": [],
      "source": [
        "sns.displot(data , x='Relationship')\n",
        "plt.xticks(rotation = 90)"
      ]
    },
    {
      "cell_type": "code",
      "execution_count": null,
      "id": "fad1e002-e154-460a-9af9-81c1233bdba5",
      "metadata": {
        "id": "fad1e002-e154-460a-9af9-81c1233bdba5"
      },
      "outputs": [],
      "source": [
        "keylist=data['Relationship'].value_counts().keys()\n",
        "heightlist=[]\n",
        "\n",
        "plt.figure(figsize=(20,20))\n",
        "for i in range(1,len(keylist)+1):\n",
        "    labels=data[data['Relationship']==keylist[i-1]].Income.value_counts().keys()\n",
        "    for j in range(len(labels)):\n",
        "        heightlist.append(data[data['Relationship']==keylist[i-1]].Income.value_counts().iloc[j])\n",
        "    plt.subplot(4,4,i)\n",
        "    plt.bar(height=heightlist,x=labels)\n",
        "    plt.title('Relationship is '+keylist[i-1])\n",
        "    heightlist=[]\n",
        "\n",
        "plt.show()"
      ]
    },
    {
      "cell_type": "markdown",
      "id": "408fde2a-0469-4d24-b9fa-dee2aa9cfd25",
      "metadata": {
        "id": "408fde2a-0469-4d24-b9fa-dee2aa9cfd25"
      },
      "source": [
        "### Race"
      ]
    },
    {
      "cell_type": "code",
      "execution_count": null,
      "id": "c65ec747-e134-418b-8d28-07db0bc56c29",
      "metadata": {
        "id": "c65ec747-e134-418b-8d28-07db0bc56c29"
      },
      "outputs": [],
      "source": [
        "data['Race'].value_counts()"
      ]
    },
    {
      "cell_type": "code",
      "execution_count": null,
      "id": "bfd24301-2a24-4ff5-878f-727e2bbcd854",
      "metadata": {
        "id": "bfd24301-2a24-4ff5-878f-727e2bbcd854"
      },
      "outputs": [],
      "source": [
        "Xtest['Race'].value_counts()"
      ]
    },
    {
      "cell_type": "code",
      "execution_count": null,
      "id": "2532b9ad-6238-4636-b967-2a3c15b82466",
      "metadata": {
        "id": "2532b9ad-6238-4636-b967-2a3c15b82466"
      },
      "outputs": [],
      "source": [
        "sns.displot(data , x='Race')\n",
        "plt.xticks(rotation = 90)"
      ]
    },
    {
      "cell_type": "markdown",
      "id": "f50b4fef-0071-48b6-bcb1-130cf10f00e2",
      "metadata": {
        "id": "f50b4fef-0071-48b6-bcb1-130cf10f00e2"
      },
      "source": [
        "### Sex"
      ]
    },
    {
      "cell_type": "code",
      "execution_count": null,
      "id": "bf6ef02f-cd18-4bf0-8fff-71c2a91a40e3",
      "metadata": {
        "id": "bf6ef02f-cd18-4bf0-8fff-71c2a91a40e3"
      },
      "outputs": [],
      "source": [
        "data['Sex'].value_counts()"
      ]
    },
    {
      "cell_type": "code",
      "execution_count": null,
      "id": "9acba248-6940-4db4-915e-cface1f0dce8",
      "metadata": {
        "id": "9acba248-6940-4db4-915e-cface1f0dce8"
      },
      "outputs": [],
      "source": [
        "Xtest['Sex'].value_counts()"
      ]
    },
    {
      "cell_type": "code",
      "execution_count": null,
      "id": "b9f70b14-8836-4ec8-ad4c-81475bd0ee67",
      "metadata": {
        "id": "b9f70b14-8836-4ec8-ad4c-81475bd0ee67"
      },
      "outputs": [],
      "source": [
        "sns.displot(data , x='Sex')\n",
        "plt.xticks(rotation = 90)"
      ]
    },
    {
      "cell_type": "code",
      "execution_count": null,
      "id": "e1ebfe73-dd2a-4197-97a9-0e2fcb2d63f3",
      "metadata": {
        "id": "e1ebfe73-dd2a-4197-97a9-0e2fcb2d63f3"
      },
      "outputs": [],
      "source": [
        "keylist=data['Sex'].value_counts().keys()\n",
        "heightlist=[]\n",
        "\n",
        "plt.figure(figsize=(20,20))\n",
        "for i in range(1,len(keylist)+1):\n",
        "    labels=data[data['Sex']==keylist[i-1]].Income.value_counts().keys()\n",
        "    for j in range(len(labels)):\n",
        "        heightlist.append(data[data['Sex']==keylist[i-1]].Income.value_counts().iloc[j])\n",
        "    plt.subplot(4,4,i)\n",
        "    plt.bar(height=heightlist,x=labels)\n",
        "    plt.title('Sex is '+keylist[i-1])\n",
        "    heightlist=[]\n",
        "\n",
        "plt.show()"
      ]
    },
    {
      "cell_type": "markdown",
      "id": "c2c39530-e014-431c-a9de-a4aea774c29f",
      "metadata": {
        "id": "c2c39530-e014-431c-a9de-a4aea774c29f"
      },
      "source": [
        "### Native Country"
      ]
    },
    {
      "cell_type": "code",
      "execution_count": null,
      "id": "37ce4553-c10d-49fb-9d48-94a615404bbf",
      "metadata": {
        "id": "37ce4553-c10d-49fb-9d48-94a615404bbf"
      },
      "outputs": [],
      "source": [
        "data['Native_Country'].value_counts()"
      ]
    },
    {
      "cell_type": "code",
      "execution_count": null,
      "id": "2a387825-c626-46c9-9260-3ba7244b60ae",
      "metadata": {
        "tags": [],
        "id": "2a387825-c626-46c9-9260-3ba7244b60ae"
      },
      "outputs": [],
      "source": [
        "label=data['Native_Country'].value_counts().keys()\n",
        "data['Native_Country'].value_counts()\n",
        "for i in label:\n",
        "    data['Native_Country'].replace(to_replace=i,value=i.strip(),inplace=True)\n",
        "label=data['Native_Country'].value_counts().keys()\n",
        "for i in label:\n",
        "    selected=data[data['Native_Country']==i].Income.value_counts()\n",
        "    if len(selected)==2:print(i,':\\n',selected[1]/selected[0])\n",
        "    print(selected)\n",
        "    print('\\n')"
      ]
    },
    {
      "cell_type": "markdown",
      "id": "9f4a9fc0-d01e-4ae9-9f48-8bb25a4d7cb3",
      "metadata": {
        "id": "9f4a9fc0-d01e-4ae9-9f48-8bb25a4d7cb3"
      },
      "source": [
        "#### Filling missing Values"
      ]
    },
    {
      "cell_type": "markdown",
      "id": "6c98ec63-13f6-4743-bf68-393ec6f4a338",
      "metadata": {
        "id": "6c98ec63-13f6-4743-bf68-393ec6f4a338"
      },
      "source": [
        "' ?' is like United States"
      ]
    },
    {
      "cell_type": "code",
      "execution_count": null,
      "id": "e42ee21c-6f91-434b-916e-b094a456930c",
      "metadata": {
        "id": "e42ee21c-6f91-434b-916e-b094a456930c"
      },
      "outputs": [],
      "source": [
        "data['Native_Country'].replace(to_replace='?',value='United-States',inplace=True)"
      ]
    },
    {
      "cell_type": "code",
      "execution_count": null,
      "id": "c3e5d1c6-100b-4aba-a941-bc04667b001f",
      "metadata": {
        "id": "c3e5d1c6-100b-4aba-a941-bc04667b001f"
      },
      "outputs": [],
      "source": [
        "tlabel=Xtest['Native_Country'].value_counts().keys()"
      ]
    },
    {
      "cell_type": "code",
      "execution_count": null,
      "id": "e2b0a197-9d67-4a49-9e69-1d72e0799264",
      "metadata": {
        "id": "e2b0a197-9d67-4a49-9e69-1d72e0799264"
      },
      "outputs": [],
      "source": [
        "for i in tlabel:\n",
        "    Xtest['Native_Country'].replace(to_replace=i,value=i.strip(),inplace=True)\n",
        "Xtest['Native_Country'].replace(to_replace='?',value='United-States',inplace=True)"
      ]
    },
    {
      "cell_type": "markdown",
      "id": "6b47a994-78c7-4eee-820a-82fd8e16d240",
      "metadata": {
        "id": "6b47a994-78c7-4eee-820a-82fd8e16d240"
      },
      "source": [
        "## Encoding Categorical Features"
      ]
    },
    {
      "cell_type": "code",
      "execution_count": null,
      "id": "25813345-5186-42c5-bc16-81a4b602e9d8",
      "metadata": {
        "id": "25813345-5186-42c5-bc16-81a4b602e9d8"
      },
      "outputs": [],
      "source": [
        "Xtest"
      ]
    },
    {
      "cell_type": "code",
      "execution_count": null,
      "id": "511e555f-3cd6-4259-950d-7ec6168adcad",
      "metadata": {
        "id": "511e555f-3cd6-4259-950d-7ec6168adcad"
      },
      "outputs": [],
      "source": [
        "from sklearn import preprocessing\n",
        "for i in Catlist:\n",
        "    en = preprocessing.LabelEncoder()\n",
        "    en.fit(data[i])\n",
        "    Xtest[i]= en.transform(Xtest[i])\n",
        "    data[i]= en.transform(data[i])"
      ]
    },
    {
      "cell_type": "markdown",
      "id": "1b120de8-75e6-4b94-9983-02d63ea54873",
      "metadata": {
        "tags": [],
        "id": "1b120de8-75e6-4b94-9983-02d63ea54873"
      },
      "source": [
        "## Removing Outlier "
      ]
    },
    {
      "cell_type": "code",
      "execution_count": null,
      "id": "7d93f8ce-977e-4c9d-975a-6cb7344e7159",
      "metadata": {
        "id": "7d93f8ce-977e-4c9d-975a-6cb7344e7159"
      },
      "outputs": [],
      "source": [
        "data.describe()"
      ]
    },
    {
      "cell_type": "code",
      "execution_count": null,
      "id": "9412f465-7f74-41e5-bd4c-61308f05f80a",
      "metadata": {
        "id": "9412f465-7f74-41e5-bd4c-61308f05f80a"
      },
      "outputs": [],
      "source": [
        "Numlist"
      ]
    },
    {
      "cell_type": "code",
      "execution_count": null,
      "id": "220215cf-94cd-4240-bbac-7ed0468cc921",
      "metadata": {
        "id": "220215cf-94cd-4240-bbac-7ed0468cc921"
      },
      "outputs": [],
      "source": [
        "plt.figure(figsize=(20,10))\n",
        "for i in range(1,len(Numlist)+1):\n",
        "    plt.subplot(3,2,i)\n",
        "    sns.histplot(data[Numlist[i-1]], kde=True)\n",
        "    plt.title('Feature: '+Numlist[i-1])\n",
        "plt.show()\n"
      ]
    },
    {
      "cell_type": "code",
      "execution_count": null,
      "id": "2bf6e27e-26aa-4096-9a65-46511d8c54a2",
      "metadata": {
        "id": "2bf6e27e-26aa-4096-9a65-46511d8c54a2"
      },
      "outputs": [],
      "source": [
        "sns.boxplot(data['Final_Weight'])"
      ]
    },
    {
      "cell_type": "markdown",
      "id": "4b23c047-1f84-4abe-ab22-a17be1eaffee",
      "metadata": {
        "id": "4b23c047-1f84-4abe-ab22-a17be1eaffee"
      },
      "source": [
        "#### Function to remove"
      ]
    },
    {
      "cell_type": "code",
      "execution_count": null,
      "id": "3b85ea7b-c8a4-4c7b-9f28-fa4853f19db2",
      "metadata": {
        "id": "3b85ea7b-c8a4-4c7b-9f28-fa4853f19db2"
      },
      "outputs": [],
      "source": [
        "from scipy import stats\n",
        "def drop_numerical_outliers(df, z_thresh=3):\n",
        "    # Constrains will contain `True` or `False` depending on if it is a value below the threshold.\n",
        "    constrains = df.select_dtypes(include=[np.number]) \\\n",
        "        .apply(lambda x: np.abs(stats.zscore(x)) < z_thresh) \\\n",
        "        .all(axis=1)\n",
        "    # Drop (inplace) values set to be rejected\n",
        "    df.drop(df.index[~constrains], inplace=True)"
      ]
    },
    {
      "cell_type": "code",
      "execution_count": null,
      "id": "fbc2da25-6165-4db7-b8cb-4f5f9256ee4b",
      "metadata": {
        "id": "fbc2da25-6165-4db7-b8cb-4f5f9256ee4b"
      },
      "outputs": [],
      "source": [
        "drop_numerical_outliers(data)"
      ]
    },
    {
      "cell_type": "code",
      "execution_count": null,
      "id": "985aca4e-7719-499e-8586-94ed77ccfe07",
      "metadata": {
        "id": "985aca4e-7719-499e-8586-94ed77ccfe07"
      },
      "outputs": [],
      "source": [
        "sns.boxplot(data['Final_Weight'])"
      ]
    },
    {
      "cell_type": "markdown",
      "id": "491b4655-6a73-4bf2-9402-1d114a9cc7bd",
      "metadata": {
        "id": "491b4655-6a73-4bf2-9402-1d114a9cc7bd"
      },
      "source": [
        "## Encoding Target and Spliting X and Y"
      ]
    },
    {
      "cell_type": "code",
      "execution_count": null,
      "id": "2f073cdb-8dc1-4154-a608-0fac483ad365",
      "metadata": {
        "id": "2f073cdb-8dc1-4154-a608-0fac483ad365"
      },
      "outputs": [],
      "source": [
        "\n",
        "data['Income'].replace(to_replace=' <=50K',value=1,inplace=True)\n",
        "data['Income'].replace(to_replace=' >50K',value=0,inplace=True)\n",
        "\n",
        "X=data.drop('Income',axis=1)\n",
        "y=data['Income']\n",
        "#Xtest\n",
        "#ytest"
      ]
    },
    {
      "cell_type": "markdown",
      "id": "a318c31f-8fc0-414f-b34b-7d1a4b444ba3",
      "metadata": {
        "id": "a318c31f-8fc0-414f-b34b-7d1a4b444ba3"
      },
      "source": [
        "## Scaling"
      ]
    },
    {
      "cell_type": "code",
      "execution_count": null,
      "id": "da058ea8-879f-43e7-ac6f-a522719252e9",
      "metadata": {
        "id": "da058ea8-879f-43e7-ac6f-a522719252e9"
      },
      "outputs": [],
      "source": [
        "from sklearn.preprocessing import MinMaxScaler\n",
        "XX=X\n",
        "yy=y\n",
        "\n",
        "scaler = MinMaxScaler()\n",
        "scaler.fit(XX)\n",
        "dfscaled=pd.DataFrame(scaler.transform(XX))\n",
        "dfscaled.columns=list(XX.columns)\n",
        "\n",
        "test_scale=pd.DataFrame(scaler.transform(Xtest))\n",
        "test_scale.columns=list(XX.columns)\n",
        "\n",
        "#dfscaled"
      ]
    },
    {
      "cell_type": "markdown",
      "id": "a7aa5e5e-e0f6-41fa-bfce-6d65b280a889",
      "metadata": {
        "id": "a7aa5e5e-e0f6-41fa-bfce-6d65b280a889"
      },
      "source": [
        "## Feature importance"
      ]
    },
    {
      "cell_type": "code",
      "execution_count": null,
      "id": "68548bc6-2690-4d70-9c1b-23a45b35ab7d",
      "metadata": {
        "id": "68548bc6-2690-4d70-9c1b-23a45b35ab7d"
      },
      "outputs": [],
      "source": [
        "from sklearn.feature_selection import SelectKBest\n",
        "from sklearn.feature_selection import chi2,f_classif\n",
        "\n",
        "# Two features with highest chi-squared statistics are selected\n",
        "chi2_features = SelectKBest(chi2, k = 12)\n",
        "X_kbest_features = chi2_features.fit_transform(dfscaled, yy)\n",
        "chidata=pd.DataFrame(X_kbest_features)\n",
        "chifeatures=[]\n",
        "for i in chidata.columns:\n",
        "    for j in dfscaled.columns:\n",
        "        if (chidata[i]==dfscaled[j]).sum()==len(chidata):\n",
        "            chifeatures.append(j)\n",
        "            \n",
        "chifeatures"
      ]
    },
    {
      "cell_type": "code",
      "execution_count": null,
      "id": "96da17b2-4211-454c-a953-84ab15360f87",
      "metadata": {
        "tags": [],
        "id": "96da17b2-4211-454c-a953-84ab15360f87"
      },
      "outputs": [],
      "source": [
        "train_y = yy\n",
        "train_col= XX\n",
        "\n",
        "fearture_name = train_col.columns.values \n",
        "\n",
        "from sklearn import ensemble \n",
        "\n",
        "model = ensemble.ExtraTreesRegressor(n_estimators=25, max_depth=30, max_features=0.5, n_jobs=-1, random_state=0)\n",
        "model.fit(train_col,train_y)\n",
        "\n",
        "\n",
        "importance = model.feature_importances_\n",
        "std = np.std([tree.feature_importances_ for tree in model.estimators_],axis=0)\n",
        "indices = np.argsort(importance)[::-1][:20]\n",
        "\n",
        "plt.figure(figsize=(20,7))\n",
        "plt.title(\"Feature importances\")\n",
        "plt.bar(range(len(indices)), importance[indices], color=\"r\", yerr=std[indices], align=\"center\")\n",
        "plt.xticks(range(len(indices)), fearture_name[indices], rotation='vertical')\n",
        "plt.xlim([-1, len(indices)])\n",
        "plt.show()"
      ]
    },
    {
      "cell_type": "code",
      "execution_count": null,
      "id": "f7e387f6-b9fb-494c-9ee8-8f2042471f24",
      "metadata": {
        "id": "f7e387f6-b9fb-494c-9ee8-8f2042471f24"
      },
      "outputs": [],
      "source": [
        "fimport=fearture_name[indices]\n",
        "fimport=fimport[0:10]\n",
        "fimport"
      ]
    },
    {
      "cell_type": "markdown",
      "id": "684aea08-770a-47fc-a0c5-32354e47c460",
      "metadata": {
        "id": "684aea08-770a-47fc-a0c5-32354e47c460"
      },
      "source": [
        "## Model Eval"
      ]
    },
    {
      "cell_type": "code",
      "execution_count": null,
      "id": "d3d8d019-1ed0-4505-ab34-04dfde637667",
      "metadata": {
        "id": "d3d8d019-1ed0-4505-ab34-04dfde637667"
      },
      "outputs": [],
      "source": [
        "from sklearn.metrics import accuracy_score,balanced_accuracy_score,f1_score\n",
        "def evall(predict,real):\n",
        "    acc=accuracy_score(predict,real)\n",
        "    bacc=balanced_accuracy_score(predict,real)\n",
        "    f1=f1_score(predict,real,average='macro')\n",
        "    print('Accuracy is : ',acc,'\\nBalanced Accuracy is : ',bacc,'\\nMacro Average f1 is :',f1)"
      ]
    },
    {
      "cell_type": "code",
      "execution_count": null,
      "id": "835404e9-dce4-4058-9e75-53ec7e1c5bfd",
      "metadata": {
        "id": "835404e9-dce4-4058-9e75-53ec7e1c5bfd"
      },
      "outputs": [],
      "source": [
        "def classprecision(y_pred,y_test):\n",
        "    from sklearn.metrics import precision_score\n",
        "    from sklearn.metrics import recall_score\n",
        "    for i in y_test.unique():\n",
        "        realclassi=y_test==i\n",
        "        preclassi=y_pred==i\n",
        "        precision = precision_score(realclassi, preclassi)\n",
        "        recall = recall_score(realclassi, preclassi)\n",
        "        print('Class: ',i,\"Precision : \",precision)"
      ]
    },
    {
      "cell_type": "markdown",
      "id": "c912adee-9512-46f8-a1da-a8bb92072ce8",
      "metadata": {
        "id": "c912adee-9512-46f8-a1da-a8bb92072ce8"
      },
      "source": [
        "## Training Model"
      ]
    },
    {
      "cell_type": "code",
      "execution_count": null,
      "id": "5de32024-5cca-47c4-8b55-b1de761e9aec",
      "metadata": {
        "id": "5de32024-5cca-47c4-8b55-b1de761e9aec"
      },
      "outputs": [],
      "source": [
        "from sklearn import tree\n",
        "clf=tree.DecisionTreeClassifier()\n",
        "clf = clf.fit(XX[chifeatures], yy)\n",
        "clf"
      ]
    },
    {
      "cell_type": "code",
      "execution_count": null,
      "id": "af992f60-ad3e-468f-9611-88b40da2311c",
      "metadata": {
        "id": "af992f60-ad3e-468f-9611-88b40da2311c"
      },
      "outputs": [],
      "source": [
        "y_pred=clf.predict(test_scale[chifeatures])\n",
        "y_pred=pd.Series(y_pred)\n",
        "evall(ytest,y_pred)\n",
        "classprecision(y_pred,ytest)"
      ]
    },
    {
      "cell_type": "code",
      "execution_count": null,
      "id": "c4e330c2-1ae8-44d7-8787-4a4fba40d34b",
      "metadata": {
        "id": "c4e330c2-1ae8-44d7-8787-4a4fba40d34b"
      },
      "outputs": [],
      "source": [
        "from sklearn import svm\n",
        "## XX is Scaled X Train \n",
        "svmclf = svm.SVC()\n",
        "svmclf.fit(XX[chifeatures], y)"
      ]
    },
    {
      "cell_type": "code",
      "execution_count": null,
      "id": "7e1202ad-590f-4919-bbef-07b9f2bc52da",
      "metadata": {
        "id": "7e1202ad-590f-4919-bbef-07b9f2bc52da"
      },
      "outputs": [],
      "source": [
        "Ypredict=pd.Series(svmclf.predict(test_scale[chifeatures]))\n",
        "evall(Ypredict,ytest)\n",
        "classprecision(Ypredict,ytest)"
      ]
    },
    {
      "cell_type": "code",
      "execution_count": null,
      "id": "52125ee4-c360-49ca-acff-0e528dfc112e",
      "metadata": {
        "id": "52125ee4-c360-49ca-acff-0e528dfc112e"
      },
      "outputs": [],
      "source": [
        "from sklearn.neighbors import KNeighborsClassifier\n",
        "neigh = KNeighborsClassifier(n_neighbors=113)\n",
        "neigh.fit(XX[chifeatures], y)"
      ]
    },
    {
      "cell_type": "code",
      "execution_count": null,
      "id": "ff1022b7-e828-4798-976a-c0a2ae59a405",
      "metadata": {
        "id": "ff1022b7-e828-4798-976a-c0a2ae59a405"
      },
      "outputs": [],
      "source": [
        "Ypredict=pd.Series(neigh.predict(test_scale[chifeatures]))\n",
        "evall(Ypredict,ytest)\n",
        "classprecision(Ypredict,ytest)"
      ]
    },
    {
      "cell_type": "code",
      "execution_count": null,
      "id": "81f2f12b-5c24-4b55-84cf-8e8bad581dd8",
      "metadata": {
        "id": "81f2f12b-5c24-4b55-84cf-8e8bad581dd8"
      },
      "outputs": [],
      "source": [
        "from sklearn.naive_bayes import GaussianNB\n",
        "gnb = GaussianNB()\n",
        "gnb.fit(XX[chifeatures], y)"
      ]
    },
    {
      "cell_type": "code",
      "execution_count": null,
      "id": "ebc9cc7b-4baf-471f-b660-994f11229ef9",
      "metadata": {
        "id": "ebc9cc7b-4baf-471f-b660-994f11229ef9"
      },
      "outputs": [],
      "source": [
        "Ypredict=pd.Series(gnb.predict(test_scale[chifeatures]))\n",
        "evall(ytest,Ypredict)\n",
        "classprecision(ytest,Ypredict)"
      ]
    },
    {
      "cell_type": "markdown",
      "id": "bdec0b4a-db5d-42c7-8317-9e83bd0ca3a3",
      "metadata": {
        "id": "bdec0b4a-db5d-42c7-8317-9e83bd0ca3a3"
      },
      "source": [
        "# Lets Test Some Shit"
      ]
    },
    {
      "cell_type": "code",
      "execution_count": null,
      "id": "869120dd-8313-483e-a4e4-c0183013de74",
      "metadata": {
        "id": "869120dd-8313-483e-a4e4-c0183013de74"
      },
      "outputs": [],
      "source": [
        "y.value_counts()"
      ]
    },
    {
      "cell_type": "code",
      "execution_count": null,
      "id": "d3b6e550-d8b6-4210-bcb4-77fe0ef2a8ee",
      "metadata": {
        "id": "d3b6e550-d8b6-4210-bcb4-77fe0ef2a8ee"
      },
      "outputs": [],
      "source": [
        "newX1=XX[y==1].sample(n=6226)"
      ]
    },
    {
      "cell_type": "code",
      "execution_count": null,
      "id": "8dae5b8d-6abf-4db9-8fa1-f150131ff55f",
      "metadata": {
        "id": "8dae5b8d-6abf-4db9-8fa1-f150131ff55f"
      },
      "outputs": [],
      "source": [
        "newX1['y']=1"
      ]
    },
    {
      "cell_type": "code",
      "execution_count": null,
      "id": "b1fd677d-cec1-4e6c-9f5a-b89f1aca03d5",
      "metadata": {
        "id": "b1fd677d-cec1-4e6c-9f5a-b89f1aca03d5"
      },
      "outputs": [],
      "source": [
        "newX0=XX[y==0]\n",
        "newX0['y']=0"
      ]
    },
    {
      "cell_type": "code",
      "execution_count": null,
      "id": "e5520ebc-9d5f-4ea0-8eb1-52f1236bf80b",
      "metadata": {
        "id": "e5520ebc-9d5f-4ea0-8eb1-52f1236bf80b"
      },
      "outputs": [],
      "source": [
        "newX=pd.concat([newX1,newX0])"
      ]
    },
    {
      "cell_type": "code",
      "execution_count": null,
      "id": "e5e968e3-3712-47a8-b602-e60b33978243",
      "metadata": {
        "id": "e5e968e3-3712-47a8-b602-e60b33978243"
      },
      "outputs": [],
      "source": [
        "Yman=newX.y\n",
        "Xman=newX.drop('y',axis=1)"
      ]
    },
    {
      "cell_type": "code",
      "execution_count": null,
      "id": "dedf5861-96b1-4f97-9b76-102831197e50",
      "metadata": {
        "id": "dedf5861-96b1-4f97-9b76-102831197e50"
      },
      "outputs": [],
      "source": [
        "from sklearn import svm\n",
        "## XX is Scaled X Train \n",
        "svmclf = svm.SVC()\n",
        "svmclf.fit(Xman[chifeatures], Yman)"
      ]
    },
    {
      "cell_type": "code",
      "execution_count": null,
      "id": "2d6f46d0-90c8-41e0-a345-0eb2a2324c05",
      "metadata": {
        "id": "2d6f46d0-90c8-41e0-a345-0eb2a2324c05"
      },
      "outputs": [],
      "source": [
        "Ypredict=pd.Series(svmclf.predict(test_scale[chifeatures]))\n",
        "evall(Ypredict,ytest)\n",
        "classprecision(Ypredict,ytest)"
      ]
    },
    {
      "cell_type": "code",
      "execution_count": null,
      "id": "67bea96f-359d-4035-b069-011badcd5e2d",
      "metadata": {
        "id": "67bea96f-359d-4035-b069-011badcd5e2d"
      },
      "outputs": [],
      "source": []
    }
  ],
  "metadata": {
    "kernelspec": {
      "display_name": "Python 3 (ipykernel)",
      "language": "python",
      "name": "python3"
    },
    "language_info": {
      "codemirror_mode": {
        "name": "ipython",
        "version": 3
      },
      "file_extension": ".py",
      "mimetype": "text/x-python",
      "name": "python",
      "nbconvert_exporter": "python",
      "pygments_lexer": "ipython3",
      "version": "3.11.0"
    },
    "colab": {
      "provenance": []
    }
  },
  "nbformat": 4,
  "nbformat_minor": 5
}